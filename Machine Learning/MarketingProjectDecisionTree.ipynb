{
  "cells": [
    {
      "cell_type": "code",
      "execution_count": 1,
      "metadata": {
        "id": "RxLFfSMxwNGT"
      },
      "outputs": [],
      "source": [
        "import numpy as np\n",
        "import pandas\n",
        "import matplotlib.pyplot as plt"
      ]
    },
    {
      "cell_type": "code",
      "execution_count": 2,
      "metadata": {
        "id": "c064K5oD2Exv",
        "colab": {
          "base_uri": "https://localhost:8080/",
          "height": 270
        },
        "outputId": "d6c43c44-b09a-44b2-8dad-a04f0de2ad93"
      },
      "outputs": [
        {
          "output_type": "execute_result",
          "data": {
            "text/plain": [
              "   age         job  marital  education default  balance housing loan  contact  \\\n",
              "0   59      admin.  married  secondary      no     2343     yes   no  unknown   \n",
              "1   56      admin.  married  secondary      no       45      no   no  unknown   \n",
              "2   41  technician  married  secondary      no     1270     yes   no  unknown   \n",
              "3   55    services  married  secondary      no     2476     yes   no  unknown   \n",
              "4   54      admin.  married   tertiary      no      184      no   no  unknown   \n",
              "\n",
              "   day month  duration  campaign  pdays  previous poutcome deposit  \n",
              "0    5   may      1042         1     -1         0  unknown     yes  \n",
              "1    5   may      1467         1     -1         0  unknown     yes  \n",
              "2    5   may      1389         1     -1         0  unknown     yes  \n",
              "3    5   may       579         1     -1         0  unknown     yes  \n",
              "4    5   may       673         2     -1         0  unknown     yes  "
            ],
            "text/html": [
              "\n",
              "  <div id=\"df-20114c19-42c2-4934-9c97-a1d646f3487b\">\n",
              "    <div class=\"colab-df-container\">\n",
              "      <div>\n",
              "<style scoped>\n",
              "    .dataframe tbody tr th:only-of-type {\n",
              "        vertical-align: middle;\n",
              "    }\n",
              "\n",
              "    .dataframe tbody tr th {\n",
              "        vertical-align: top;\n",
              "    }\n",
              "\n",
              "    .dataframe thead th {\n",
              "        text-align: right;\n",
              "    }\n",
              "</style>\n",
              "<table border=\"1\" class=\"dataframe\">\n",
              "  <thead>\n",
              "    <tr style=\"text-align: right;\">\n",
              "      <th></th>\n",
              "      <th>age</th>\n",
              "      <th>job</th>\n",
              "      <th>marital</th>\n",
              "      <th>education</th>\n",
              "      <th>default</th>\n",
              "      <th>balance</th>\n",
              "      <th>housing</th>\n",
              "      <th>loan</th>\n",
              "      <th>contact</th>\n",
              "      <th>day</th>\n",
              "      <th>month</th>\n",
              "      <th>duration</th>\n",
              "      <th>campaign</th>\n",
              "      <th>pdays</th>\n",
              "      <th>previous</th>\n",
              "      <th>poutcome</th>\n",
              "      <th>deposit</th>\n",
              "    </tr>\n",
              "  </thead>\n",
              "  <tbody>\n",
              "    <tr>\n",
              "      <th>0</th>\n",
              "      <td>59</td>\n",
              "      <td>admin.</td>\n",
              "      <td>married</td>\n",
              "      <td>secondary</td>\n",
              "      <td>no</td>\n",
              "      <td>2343</td>\n",
              "      <td>yes</td>\n",
              "      <td>no</td>\n",
              "      <td>unknown</td>\n",
              "      <td>5</td>\n",
              "      <td>may</td>\n",
              "      <td>1042</td>\n",
              "      <td>1</td>\n",
              "      <td>-1</td>\n",
              "      <td>0</td>\n",
              "      <td>unknown</td>\n",
              "      <td>yes</td>\n",
              "    </tr>\n",
              "    <tr>\n",
              "      <th>1</th>\n",
              "      <td>56</td>\n",
              "      <td>admin.</td>\n",
              "      <td>married</td>\n",
              "      <td>secondary</td>\n",
              "      <td>no</td>\n",
              "      <td>45</td>\n",
              "      <td>no</td>\n",
              "      <td>no</td>\n",
              "      <td>unknown</td>\n",
              "      <td>5</td>\n",
              "      <td>may</td>\n",
              "      <td>1467</td>\n",
              "      <td>1</td>\n",
              "      <td>-1</td>\n",
              "      <td>0</td>\n",
              "      <td>unknown</td>\n",
              "      <td>yes</td>\n",
              "    </tr>\n",
              "    <tr>\n",
              "      <th>2</th>\n",
              "      <td>41</td>\n",
              "      <td>technician</td>\n",
              "      <td>married</td>\n",
              "      <td>secondary</td>\n",
              "      <td>no</td>\n",
              "      <td>1270</td>\n",
              "      <td>yes</td>\n",
              "      <td>no</td>\n",
              "      <td>unknown</td>\n",
              "      <td>5</td>\n",
              "      <td>may</td>\n",
              "      <td>1389</td>\n",
              "      <td>1</td>\n",
              "      <td>-1</td>\n",
              "      <td>0</td>\n",
              "      <td>unknown</td>\n",
              "      <td>yes</td>\n",
              "    </tr>\n",
              "    <tr>\n",
              "      <th>3</th>\n",
              "      <td>55</td>\n",
              "      <td>services</td>\n",
              "      <td>married</td>\n",
              "      <td>secondary</td>\n",
              "      <td>no</td>\n",
              "      <td>2476</td>\n",
              "      <td>yes</td>\n",
              "      <td>no</td>\n",
              "      <td>unknown</td>\n",
              "      <td>5</td>\n",
              "      <td>may</td>\n",
              "      <td>579</td>\n",
              "      <td>1</td>\n",
              "      <td>-1</td>\n",
              "      <td>0</td>\n",
              "      <td>unknown</td>\n",
              "      <td>yes</td>\n",
              "    </tr>\n",
              "    <tr>\n",
              "      <th>4</th>\n",
              "      <td>54</td>\n",
              "      <td>admin.</td>\n",
              "      <td>married</td>\n",
              "      <td>tertiary</td>\n",
              "      <td>no</td>\n",
              "      <td>184</td>\n",
              "      <td>no</td>\n",
              "      <td>no</td>\n",
              "      <td>unknown</td>\n",
              "      <td>5</td>\n",
              "      <td>may</td>\n",
              "      <td>673</td>\n",
              "      <td>2</td>\n",
              "      <td>-1</td>\n",
              "      <td>0</td>\n",
              "      <td>unknown</td>\n",
              "      <td>yes</td>\n",
              "    </tr>\n",
              "  </tbody>\n",
              "</table>\n",
              "</div>\n",
              "      <button class=\"colab-df-convert\" onclick=\"convertToInteractive('df-20114c19-42c2-4934-9c97-a1d646f3487b')\"\n",
              "              title=\"Convert this dataframe to an interactive table.\"\n",
              "              style=\"display:none;\">\n",
              "        \n",
              "  <svg xmlns=\"http://www.w3.org/2000/svg\" height=\"24px\"viewBox=\"0 0 24 24\"\n",
              "       width=\"24px\">\n",
              "    <path d=\"M0 0h24v24H0V0z\" fill=\"none\"/>\n",
              "    <path d=\"M18.56 5.44l.94 2.06.94-2.06 2.06-.94-2.06-.94-.94-2.06-.94 2.06-2.06.94zm-11 1L8.5 8.5l.94-2.06 2.06-.94-2.06-.94L8.5 2.5l-.94 2.06-2.06.94zm10 10l.94 2.06.94-2.06 2.06-.94-2.06-.94-.94-2.06-.94 2.06-2.06.94z\"/><path d=\"M17.41 7.96l-1.37-1.37c-.4-.4-.92-.59-1.43-.59-.52 0-1.04.2-1.43.59L10.3 9.45l-7.72 7.72c-.78.78-.78 2.05 0 2.83L4 21.41c.39.39.9.59 1.41.59.51 0 1.02-.2 1.41-.59l7.78-7.78 2.81-2.81c.8-.78.8-2.07 0-2.86zM5.41 20L4 18.59l7.72-7.72 1.47 1.35L5.41 20z\"/>\n",
              "  </svg>\n",
              "      </button>\n",
              "      \n",
              "  <style>\n",
              "    .colab-df-container {\n",
              "      display:flex;\n",
              "      flex-wrap:wrap;\n",
              "      gap: 12px;\n",
              "    }\n",
              "\n",
              "    .colab-df-convert {\n",
              "      background-color: #E8F0FE;\n",
              "      border: none;\n",
              "      border-radius: 50%;\n",
              "      cursor: pointer;\n",
              "      display: none;\n",
              "      fill: #1967D2;\n",
              "      height: 32px;\n",
              "      padding: 0 0 0 0;\n",
              "      width: 32px;\n",
              "    }\n",
              "\n",
              "    .colab-df-convert:hover {\n",
              "      background-color: #E2EBFA;\n",
              "      box-shadow: 0px 1px 2px rgba(60, 64, 67, 0.3), 0px 1px 3px 1px rgba(60, 64, 67, 0.15);\n",
              "      fill: #174EA6;\n",
              "    }\n",
              "\n",
              "    [theme=dark] .colab-df-convert {\n",
              "      background-color: #3B4455;\n",
              "      fill: #D2E3FC;\n",
              "    }\n",
              "\n",
              "    [theme=dark] .colab-df-convert:hover {\n",
              "      background-color: #434B5C;\n",
              "      box-shadow: 0px 1px 3px 1px rgba(0, 0, 0, 0.15);\n",
              "      filter: drop-shadow(0px 1px 2px rgba(0, 0, 0, 0.3));\n",
              "      fill: #FFFFFF;\n",
              "    }\n",
              "  </style>\n",
              "\n",
              "      <script>\n",
              "        const buttonEl =\n",
              "          document.querySelector('#df-20114c19-42c2-4934-9c97-a1d646f3487b button.colab-df-convert');\n",
              "        buttonEl.style.display =\n",
              "          google.colab.kernel.accessAllowed ? 'block' : 'none';\n",
              "\n",
              "        async function convertToInteractive(key) {\n",
              "          const element = document.querySelector('#df-20114c19-42c2-4934-9c97-a1d646f3487b');\n",
              "          const dataTable =\n",
              "            await google.colab.kernel.invokeFunction('convertToInteractive',\n",
              "                                                     [key], {});\n",
              "          if (!dataTable) return;\n",
              "\n",
              "          const docLinkHtml = 'Like what you see? Visit the ' +\n",
              "            '<a target=\"_blank\" href=https://colab.research.google.com/notebooks/data_table.ipynb>data table notebook</a>'\n",
              "            + ' to learn more about interactive tables.';\n",
              "          element.innerHTML = '';\n",
              "          dataTable['output_type'] = 'display_data';\n",
              "          await google.colab.output.renderOutput(dataTable, element);\n",
              "          const docLink = document.createElement('div');\n",
              "          docLink.innerHTML = docLinkHtml;\n",
              "          element.appendChild(docLink);\n",
              "        }\n",
              "      </script>\n",
              "    </div>\n",
              "  </div>\n",
              "  "
            ]
          },
          "metadata": {},
          "execution_count": 2
        }
      ],
      "source": [
        "dataset = pandas.read_csv(\"bank.csv\")\n",
        "dataset.head()"
      ]
    },
    {
      "cell_type": "code",
      "source": [
        "#unique values of each categorical column\n",
        "categorical_columns=[]\n",
        "for i in dataset.columns:\n",
        "    if dataset[i].dtype == 'object':\n",
        "        categorical_columns.append(i)\n",
        "       \n",
        "for column in categorical_columns:\n",
        "    print(f'{ column.upper() }:{dataset[column].unique()}')\n",
        "    print('\\n')"
      ],
      "metadata": {
        "colab": {
          "base_uri": "https://localhost:8080/"
        },
        "id": "bqPfueJO7-Ua",
        "outputId": "94ee7042-2b07-4ed6-be53-dca2dbb61eeb"
      },
      "execution_count": 3,
      "outputs": [
        {
          "output_type": "stream",
          "name": "stdout",
          "text": [
            "JOB:['admin.' 'technician' 'services' 'management' 'retired' 'blue-collar'\n",
            " 'unemployed' 'entrepreneur' 'housemaid' 'unknown' 'self-employed'\n",
            " 'student']\n",
            "\n",
            "\n",
            "MARITAL:['married' 'single' 'divorced']\n",
            "\n",
            "\n",
            "EDUCATION:['secondary' 'tertiary' 'primary' 'unknown']\n",
            "\n",
            "\n",
            "DEFAULT:['no' 'yes']\n",
            "\n",
            "\n",
            "HOUSING:['yes' 'no']\n",
            "\n",
            "\n",
            "LOAN:['no' 'yes']\n",
            "\n",
            "\n",
            "CONTACT:['unknown' 'cellular' 'telephone']\n",
            "\n",
            "\n",
            "MONTH:['may' 'jun' 'jul' 'aug' 'oct' 'nov' 'dec' 'jan' 'feb' 'mar' 'apr' 'sep']\n",
            "\n",
            "\n",
            "POUTCOME:['unknown' 'other' 'failure' 'success']\n",
            "\n",
            "\n",
            "DEPOSIT:['yes' 'no']\n",
            "\n",
            "\n"
          ]
        }
      ]
    },
    {
      "cell_type": "code",
      "source": [
        "dataset.describe()"
      ],
      "metadata": {
        "colab": {
          "base_uri": "https://localhost:8080/",
          "height": 300
        },
        "id": "HACTOg2ui_gs",
        "outputId": "75b60488-0b9d-4cfd-e527-2748b95e893c"
      },
      "execution_count": 4,
      "outputs": [
        {
          "output_type": "execute_result",
          "data": {
            "text/plain": [
              "                age       balance           day      duration      campaign  \\\n",
              "count  11162.000000  11162.000000  11162.000000  11162.000000  11162.000000   \n",
              "mean      41.231948   1528.538524     15.658036    371.993818      2.508421   \n",
              "std       11.913369   3225.413326      8.420740    347.128386      2.722077   \n",
              "min       18.000000  -6847.000000      1.000000      2.000000      1.000000   \n",
              "25%       32.000000    122.000000      8.000000    138.000000      1.000000   \n",
              "50%       39.000000    550.000000     15.000000    255.000000      2.000000   \n",
              "75%       49.000000   1708.000000     22.000000    496.000000      3.000000   \n",
              "max       95.000000  81204.000000     31.000000   3881.000000     63.000000   \n",
              "\n",
              "              pdays      previous  \n",
              "count  11162.000000  11162.000000  \n",
              "mean      51.330407      0.832557  \n",
              "std      108.758282      2.292007  \n",
              "min       -1.000000      0.000000  \n",
              "25%       -1.000000      0.000000  \n",
              "50%       -1.000000      0.000000  \n",
              "75%       20.750000      1.000000  \n",
              "max      854.000000     58.000000  "
            ],
            "text/html": [
              "\n",
              "  <div id=\"df-5546706e-2964-42e2-be28-9763835d9385\">\n",
              "    <div class=\"colab-df-container\">\n",
              "      <div>\n",
              "<style scoped>\n",
              "    .dataframe tbody tr th:only-of-type {\n",
              "        vertical-align: middle;\n",
              "    }\n",
              "\n",
              "    .dataframe tbody tr th {\n",
              "        vertical-align: top;\n",
              "    }\n",
              "\n",
              "    .dataframe thead th {\n",
              "        text-align: right;\n",
              "    }\n",
              "</style>\n",
              "<table border=\"1\" class=\"dataframe\">\n",
              "  <thead>\n",
              "    <tr style=\"text-align: right;\">\n",
              "      <th></th>\n",
              "      <th>age</th>\n",
              "      <th>balance</th>\n",
              "      <th>day</th>\n",
              "      <th>duration</th>\n",
              "      <th>campaign</th>\n",
              "      <th>pdays</th>\n",
              "      <th>previous</th>\n",
              "    </tr>\n",
              "  </thead>\n",
              "  <tbody>\n",
              "    <tr>\n",
              "      <th>count</th>\n",
              "      <td>11162.000000</td>\n",
              "      <td>11162.000000</td>\n",
              "      <td>11162.000000</td>\n",
              "      <td>11162.000000</td>\n",
              "      <td>11162.000000</td>\n",
              "      <td>11162.000000</td>\n",
              "      <td>11162.000000</td>\n",
              "    </tr>\n",
              "    <tr>\n",
              "      <th>mean</th>\n",
              "      <td>41.231948</td>\n",
              "      <td>1528.538524</td>\n",
              "      <td>15.658036</td>\n",
              "      <td>371.993818</td>\n",
              "      <td>2.508421</td>\n",
              "      <td>51.330407</td>\n",
              "      <td>0.832557</td>\n",
              "    </tr>\n",
              "    <tr>\n",
              "      <th>std</th>\n",
              "      <td>11.913369</td>\n",
              "      <td>3225.413326</td>\n",
              "      <td>8.420740</td>\n",
              "      <td>347.128386</td>\n",
              "      <td>2.722077</td>\n",
              "      <td>108.758282</td>\n",
              "      <td>2.292007</td>\n",
              "    </tr>\n",
              "    <tr>\n",
              "      <th>min</th>\n",
              "      <td>18.000000</td>\n",
              "      <td>-6847.000000</td>\n",
              "      <td>1.000000</td>\n",
              "      <td>2.000000</td>\n",
              "      <td>1.000000</td>\n",
              "      <td>-1.000000</td>\n",
              "      <td>0.000000</td>\n",
              "    </tr>\n",
              "    <tr>\n",
              "      <th>25%</th>\n",
              "      <td>32.000000</td>\n",
              "      <td>122.000000</td>\n",
              "      <td>8.000000</td>\n",
              "      <td>138.000000</td>\n",
              "      <td>1.000000</td>\n",
              "      <td>-1.000000</td>\n",
              "      <td>0.000000</td>\n",
              "    </tr>\n",
              "    <tr>\n",
              "      <th>50%</th>\n",
              "      <td>39.000000</td>\n",
              "      <td>550.000000</td>\n",
              "      <td>15.000000</td>\n",
              "      <td>255.000000</td>\n",
              "      <td>2.000000</td>\n",
              "      <td>-1.000000</td>\n",
              "      <td>0.000000</td>\n",
              "    </tr>\n",
              "    <tr>\n",
              "      <th>75%</th>\n",
              "      <td>49.000000</td>\n",
              "      <td>1708.000000</td>\n",
              "      <td>22.000000</td>\n",
              "      <td>496.000000</td>\n",
              "      <td>3.000000</td>\n",
              "      <td>20.750000</td>\n",
              "      <td>1.000000</td>\n",
              "    </tr>\n",
              "    <tr>\n",
              "      <th>max</th>\n",
              "      <td>95.000000</td>\n",
              "      <td>81204.000000</td>\n",
              "      <td>31.000000</td>\n",
              "      <td>3881.000000</td>\n",
              "      <td>63.000000</td>\n",
              "      <td>854.000000</td>\n",
              "      <td>58.000000</td>\n",
              "    </tr>\n",
              "  </tbody>\n",
              "</table>\n",
              "</div>\n",
              "      <button class=\"colab-df-convert\" onclick=\"convertToInteractive('df-5546706e-2964-42e2-be28-9763835d9385')\"\n",
              "              title=\"Convert this dataframe to an interactive table.\"\n",
              "              style=\"display:none;\">\n",
              "        \n",
              "  <svg xmlns=\"http://www.w3.org/2000/svg\" height=\"24px\"viewBox=\"0 0 24 24\"\n",
              "       width=\"24px\">\n",
              "    <path d=\"M0 0h24v24H0V0z\" fill=\"none\"/>\n",
              "    <path d=\"M18.56 5.44l.94 2.06.94-2.06 2.06-.94-2.06-.94-.94-2.06-.94 2.06-2.06.94zm-11 1L8.5 8.5l.94-2.06 2.06-.94-2.06-.94L8.5 2.5l-.94 2.06-2.06.94zm10 10l.94 2.06.94-2.06 2.06-.94-2.06-.94-.94-2.06-.94 2.06-2.06.94z\"/><path d=\"M17.41 7.96l-1.37-1.37c-.4-.4-.92-.59-1.43-.59-.52 0-1.04.2-1.43.59L10.3 9.45l-7.72 7.72c-.78.78-.78 2.05 0 2.83L4 21.41c.39.39.9.59 1.41.59.51 0 1.02-.2 1.41-.59l7.78-7.78 2.81-2.81c.8-.78.8-2.07 0-2.86zM5.41 20L4 18.59l7.72-7.72 1.47 1.35L5.41 20z\"/>\n",
              "  </svg>\n",
              "      </button>\n",
              "      \n",
              "  <style>\n",
              "    .colab-df-container {\n",
              "      display:flex;\n",
              "      flex-wrap:wrap;\n",
              "      gap: 12px;\n",
              "    }\n",
              "\n",
              "    .colab-df-convert {\n",
              "      background-color: #E8F0FE;\n",
              "      border: none;\n",
              "      border-radius: 50%;\n",
              "      cursor: pointer;\n",
              "      display: none;\n",
              "      fill: #1967D2;\n",
              "      height: 32px;\n",
              "      padding: 0 0 0 0;\n",
              "      width: 32px;\n",
              "    }\n",
              "\n",
              "    .colab-df-convert:hover {\n",
              "      background-color: #E2EBFA;\n",
              "      box-shadow: 0px 1px 2px rgba(60, 64, 67, 0.3), 0px 1px 3px 1px rgba(60, 64, 67, 0.15);\n",
              "      fill: #174EA6;\n",
              "    }\n",
              "\n",
              "    [theme=dark] .colab-df-convert {\n",
              "      background-color: #3B4455;\n",
              "      fill: #D2E3FC;\n",
              "    }\n",
              "\n",
              "    [theme=dark] .colab-df-convert:hover {\n",
              "      background-color: #434B5C;\n",
              "      box-shadow: 0px 1px 3px 1px rgba(0, 0, 0, 0.15);\n",
              "      filter: drop-shadow(0px 1px 2px rgba(0, 0, 0, 0.3));\n",
              "      fill: #FFFFFF;\n",
              "    }\n",
              "  </style>\n",
              "\n",
              "      <script>\n",
              "        const buttonEl =\n",
              "          document.querySelector('#df-5546706e-2964-42e2-be28-9763835d9385 button.colab-df-convert');\n",
              "        buttonEl.style.display =\n",
              "          google.colab.kernel.accessAllowed ? 'block' : 'none';\n",
              "\n",
              "        async function convertToInteractive(key) {\n",
              "          const element = document.querySelector('#df-5546706e-2964-42e2-be28-9763835d9385');\n",
              "          const dataTable =\n",
              "            await google.colab.kernel.invokeFunction('convertToInteractive',\n",
              "                                                     [key], {});\n",
              "          if (!dataTable) return;\n",
              "\n",
              "          const docLinkHtml = 'Like what you see? Visit the ' +\n",
              "            '<a target=\"_blank\" href=https://colab.research.google.com/notebooks/data_table.ipynb>data table notebook</a>'\n",
              "            + ' to learn more about interactive tables.';\n",
              "          element.innerHTML = '';\n",
              "          dataTable['output_type'] = 'display_data';\n",
              "          await google.colab.output.renderOutput(dataTable, element);\n",
              "          const docLink = document.createElement('div');\n",
              "          docLink.innerHTML = docLinkHtml;\n",
              "          element.appendChild(docLink);\n",
              "        }\n",
              "      </script>\n",
              "    </div>\n",
              "  </div>\n",
              "  "
            ]
          },
          "metadata": {},
          "execution_count": 4
        }
      ]
    },
    {
      "cell_type": "markdown",
      "source": [
        "# **Preprocessing**"
      ],
      "metadata": {
        "id": "f7ka6Uodl9fR"
      }
    },
    {
      "cell_type": "markdown",
      "source": [
        "**splitting the dataset into features and label**"
      ],
      "metadata": {
        "id": "bOxeMmVBR6-9"
      }
    },
    {
      "cell_type": "code",
      "source": [
        "features = dataset.iloc[:,0:-1].values\n",
        "label = dataset.iloc[:,-1].values"
      ],
      "metadata": {
        "id": "fL-gS3nwicCh"
      },
      "execution_count": 5,
      "outputs": []
    },
    {
      "cell_type": "markdown",
      "source": [
        "**Encoding The Categorical Data** "
      ],
      "metadata": {
        "id": "sT8X-dheJhzC"
      }
    },
    {
      "cell_type": "code",
      "execution_count": 6,
      "metadata": {
        "colab": {
          "base_uri": "https://localhost:8080/"
        },
        "id": "i5_MIO9nP1gd",
        "outputId": "fc8909b5-38f9-478f-9a89-ab64f9a30f3e"
      },
      "outputs": [
        {
          "output_type": "stream",
          "name": "stdout",
          "text": [
            "[1.0 0.0 0.0 0.0 0.0 0.0 0.0 0.0 0.0 0.0 0.0 0.0 0.0 1.0 0.0 0.0 1.0 0.0\n",
            " 0.0 1.0 0.0 0.0 1.0 1.0 0.0 0.0 0.0 1.0 0.0 0.0 0.0 0.0 0.0 0.0 0.0 0.0\n",
            " 1.0 0.0 0.0 0.0 0.0 0.0 0.0 1.0 59 2343 5 1042 1 -1 0]\n"
          ]
        }
      ],
      "source": [
        "#Encoding features\n",
        "from sklearn.compose import ColumnTransformer\n",
        "from sklearn.preprocessing import OneHotEncoder\n",
        "import sys\n",
        "np.set_printoptions(threshold=sys.maxsize)\n",
        "#np.set_printoptions(threshold = False) \n",
        "column_transformer = ColumnTransformer(transformers=[(\"encoder\", OneHotEncoder(), [1,2,3,4,6,7,8,10,15] )] , remainder=\"passthrough\")\n",
        "features = np.array(column_transformer.fit_transform(features))\n",
        "#non encoded columns start at index 44\n",
        "print(features[0])"
      ]
    },
    {
      "cell_type": "code",
      "source": [
        "#Encoding Boolean Label\n",
        "from sklearn.preprocessing import LabelEncoder\n",
        "labelEncoder = LabelEncoder()\n",
        "label = labelEncoder.fit_transform(label)"
      ],
      "metadata": {
        "id": "UWNVTMKHJz5H"
      },
      "execution_count": 7,
      "outputs": []
    },
    {
      "cell_type": "markdown",
      "source": [
        "**Splitting The Data Into Training and Testing Sets**"
      ],
      "metadata": {
        "id": "xnLaMvfqMKPb"
      }
    },
    {
      "cell_type": "code",
      "source": [
        "from sklearn.model_selection import train_test_split\n",
        "features_train, features_test, label_train, label_test = train_test_split(features,label, test_size = 0.2, random_state = 1)"
      ],
      "metadata": {
        "id": "JEfYV9hEMbz0"
      },
      "execution_count": 8,
      "outputs": []
    },
    {
      "cell_type": "markdown",
      "source": [
        "**Performing Feature Scaling On The Dataset**"
      ],
      "metadata": {
        "id": "y9W-QZOeV7Xv"
      }
    },
    {
      "cell_type": "code",
      "source": [
        "#Standardisation method (having all numeric values between -3 and +3)\n",
        "from sklearn.preprocessing import StandardScaler\n",
        "scaler = StandardScaler()\n",
        "#apply this scaler on the features_train on the non encoded numerical columns only starting from index 44\n",
        "features_train[:,44:] = scaler.fit_transform(features_train[:,44:])\n",
        "#apply the same scaler of the training set on the test set\n",
        "features_test[:,44:] = scaler.transform(features_test[:,44:])"
      ],
      "metadata": {
        "id": "cHiuQFWMWG3Q"
      },
      "execution_count": 9,
      "outputs": []
    },
    {
      "cell_type": "code",
      "source": [
        "print(features_train[:1,:])"
      ],
      "metadata": {
        "colab": {
          "base_uri": "https://localhost:8080/"
        },
        "id": "41YxB7ZgskpY",
        "outputId": "be09fb5b-c5a6-41ec-a27a-4a0811138e87"
      },
      "execution_count": 10,
      "outputs": [
        {
          "output_type": "stream",
          "name": "stdout",
          "text": [
            "[[0.0 1.0 0.0 0.0 0.0 0.0 0.0 0.0 0.0 0.0 0.0 0.0 0.0 0.0 1.0 0.0 1.0 0.0\n",
            "  0.0 1.0 0.0 1.0 0.0 1.0 0.0 1.0 0.0 0.0 0.0 0.0 0.0 0.0 0.0 0.0 0.0 0.0\n",
            "  0.0 1.0 0.0 0.0 0.0 0.0 0.0 1.0 -0.018830524880013185\n",
            "  0.7348454322671094 0.39970495723932775 -0.6964846888895686\n",
            "  -0.5500223704517061 -0.48107659249546664 -0.3612238014205161]]\n"
          ]
        }
      ]
    },
    {
      "cell_type": "code",
      "source": [
        "print(features_test[:1,:])"
      ],
      "metadata": {
        "colab": {
          "base_uri": "https://localhost:8080/"
        },
        "id": "ZGl2Dtwzsruz",
        "outputId": "bbd2b1c6-dcb4-4181-81fb-f843b7f13220"
      },
      "execution_count": 11,
      "outputs": [
        {
          "output_type": "stream",
          "name": "stdout",
          "text": [
            "[[1.0 0.0 0.0 0.0 0.0 0.0 0.0 0.0 0.0 0.0 0.0 0.0 0.0 0.0 1.0 0.0 1.0 0.0\n",
            "  0.0 1.0 0.0 0.0 1.0 1.0 0.0 1.0 0.0 0.0 0.0 0.0 0.0 1.0 0.0 0.0 0.0 0.0\n",
            "  0.0 0.0 0.0 0.0 0.0 0.0 0.0 1.0 -0.8586794592138679\n",
            "  -0.30187457165485004 -1.2654792687374568 -0.8010198803610349\n",
            "  -0.5500223704517061 -0.48107659249546664 -0.3612238014205161]]\n"
          ]
        }
      ]
    },
    {
      "cell_type": "markdown",
      "source": [
        "# **Decision Tree**"
      ],
      "metadata": {
        "id": "GMuorGdFSe5I"
      }
    },
    {
      "cell_type": "markdown",
      "source": [
        "**Training**"
      ],
      "metadata": {
        "id": "ALlCKljFlxnA"
      }
    },
    {
      "cell_type": "code",
      "source": [
        "from sklearn.tree import DecisionTreeClassifier\n",
        "import matplotlib.pyplot as plt\n",
        "from sklearn.model_selection import GridSearchCV\n",
        "classifier = DecisionTreeClassifier()\n",
        "param_grid =  {'criterion':['gini','entropy'],'max_depth':[1,10,20,30,40,50,60,70,80,90,100,None]}\n",
        "grid = GridSearchCV(classifier, param_grid, verbose = 3)\n",
        "#train the classifier\n",
        "grid.fit(features_train, label_train)\n"
      ],
      "metadata": {
        "colab": {
          "base_uri": "https://localhost:8080/"
        },
        "id": "JkqiVc6RSkQ7",
        "outputId": "0644208b-61f2-4265-c207-45681e5e8efd"
      },
      "execution_count": 12,
      "outputs": [
        {
          "output_type": "stream",
          "name": "stdout",
          "text": [
            "Fitting 5 folds for each of 24 candidates, totalling 120 fits\n",
            "[CV 1/5] END .......criterion=gini, max_depth=1;, score=0.709 total time=   0.1s\n",
            "[CV 2/5] END .......criterion=gini, max_depth=1;, score=0.717 total time=   0.1s\n",
            "[CV 3/5] END .......criterion=gini, max_depth=1;, score=0.703 total time=   0.1s\n",
            "[CV 4/5] END .......criterion=gini, max_depth=1;, score=0.707 total time=   0.0s\n",
            "[CV 5/5] END .......criterion=gini, max_depth=1;, score=0.714 total time=   0.1s\n",
            "[CV 1/5] END ......criterion=gini, max_depth=10;, score=0.818 total time=   0.2s\n",
            "[CV 2/5] END ......criterion=gini, max_depth=10;, score=0.818 total time=   0.2s\n",
            "[CV 3/5] END ......criterion=gini, max_depth=10;, score=0.812 total time=   0.3s\n",
            "[CV 4/5] END ......criterion=gini, max_depth=10;, score=0.818 total time=   0.2s\n",
            "[CV 5/5] END ......criterion=gini, max_depth=10;, score=0.822 total time=   0.2s\n",
            "[CV 1/5] END ......criterion=gini, max_depth=20;, score=0.791 total time=   0.2s\n",
            "[CV 2/5] END ......criterion=gini, max_depth=20;, score=0.793 total time=   0.1s\n",
            "[CV 3/5] END ......criterion=gini, max_depth=20;, score=0.778 total time=   0.1s\n",
            "[CV 4/5] END ......criterion=gini, max_depth=20;, score=0.793 total time=   0.2s\n",
            "[CV 5/5] END ......criterion=gini, max_depth=20;, score=0.801 total time=   0.1s\n",
            "[CV 1/5] END ......criterion=gini, max_depth=30;, score=0.786 total time=   0.2s\n",
            "[CV 2/5] END ......criterion=gini, max_depth=30;, score=0.785 total time=   0.2s\n",
            "[CV 3/5] END ......criterion=gini, max_depth=30;, score=0.776 total time=   0.1s\n",
            "[CV 4/5] END ......criterion=gini, max_depth=30;, score=0.779 total time=   0.1s\n",
            "[CV 5/5] END ......criterion=gini, max_depth=30;, score=0.793 total time=   0.1s\n",
            "[CV 1/5] END ......criterion=gini, max_depth=40;, score=0.788 total time=   0.1s\n",
            "[CV 2/5] END ......criterion=gini, max_depth=40;, score=0.785 total time=   0.1s\n",
            "[CV 3/5] END ......criterion=gini, max_depth=40;, score=0.784 total time=   0.1s\n",
            "[CV 4/5] END ......criterion=gini, max_depth=40;, score=0.782 total time=   0.1s\n",
            "[CV 5/5] END ......criterion=gini, max_depth=40;, score=0.790 total time=   0.1s\n",
            "[CV 1/5] END ......criterion=gini, max_depth=50;, score=0.782 total time=   0.1s\n",
            "[CV 2/5] END ......criterion=gini, max_depth=50;, score=0.783 total time=   0.1s\n",
            "[CV 3/5] END ......criterion=gini, max_depth=50;, score=0.778 total time=   0.1s\n",
            "[CV 4/5] END ......criterion=gini, max_depth=50;, score=0.791 total time=   0.1s\n",
            "[CV 5/5] END ......criterion=gini, max_depth=50;, score=0.791 total time=   0.1s\n",
            "[CV 1/5] END ......criterion=gini, max_depth=60;, score=0.789 total time=   0.1s\n",
            "[CV 2/5] END ......criterion=gini, max_depth=60;, score=0.785 total time=   0.1s\n",
            "[CV 3/5] END ......criterion=gini, max_depth=60;, score=0.781 total time=   0.1s\n",
            "[CV 4/5] END ......criterion=gini, max_depth=60;, score=0.780 total time=   0.1s\n",
            "[CV 5/5] END ......criterion=gini, max_depth=60;, score=0.793 total time=   0.1s\n",
            "[CV 1/5] END ......criterion=gini, max_depth=70;, score=0.782 total time=   0.1s\n",
            "[CV 2/5] END ......criterion=gini, max_depth=70;, score=0.785 total time=   0.1s\n",
            "[CV 3/5] END ......criterion=gini, max_depth=70;, score=0.775 total time=   0.1s\n",
            "[CV 4/5] END ......criterion=gini, max_depth=70;, score=0.783 total time=   0.1s\n",
            "[CV 5/5] END ......criterion=gini, max_depth=70;, score=0.789 total time=   0.1s\n",
            "[CV 1/5] END ......criterion=gini, max_depth=80;, score=0.786 total time=   0.1s\n",
            "[CV 2/5] END ......criterion=gini, max_depth=80;, score=0.792 total time=   0.1s\n",
            "[CV 3/5] END ......criterion=gini, max_depth=80;, score=0.778 total time=   0.1s\n",
            "[CV 4/5] END ......criterion=gini, max_depth=80;, score=0.786 total time=   0.1s\n",
            "[CV 5/5] END ......criterion=gini, max_depth=80;, score=0.792 total time=   0.1s\n",
            "[CV 1/5] END ......criterion=gini, max_depth=90;, score=0.781 total time=   0.1s\n",
            "[CV 2/5] END ......criterion=gini, max_depth=90;, score=0.784 total time=   0.1s\n",
            "[CV 3/5] END ......criterion=gini, max_depth=90;, score=0.775 total time=   0.1s\n",
            "[CV 4/5] END ......criterion=gini, max_depth=90;, score=0.781 total time=   0.1s\n",
            "[CV 5/5] END ......criterion=gini, max_depth=90;, score=0.792 total time=   0.1s\n",
            "[CV 1/5] END .....criterion=gini, max_depth=100;, score=0.781 total time=   0.1s\n",
            "[CV 2/5] END .....criterion=gini, max_depth=100;, score=0.783 total time=   0.1s\n",
            "[CV 3/5] END .....criterion=gini, max_depth=100;, score=0.772 total time=   0.1s\n",
            "[CV 4/5] END .....criterion=gini, max_depth=100;, score=0.788 total time=   0.1s\n",
            "[CV 5/5] END .....criterion=gini, max_depth=100;, score=0.785 total time=   0.1s\n",
            "[CV 1/5] END ....criterion=gini, max_depth=None;, score=0.786 total time=   0.1s\n",
            "[CV 2/5] END ....criterion=gini, max_depth=None;, score=0.784 total time=   0.1s\n",
            "[CV 3/5] END ....criterion=gini, max_depth=None;, score=0.778 total time=   0.1s\n",
            "[CV 4/5] END ....criterion=gini, max_depth=None;, score=0.789 total time=   0.1s\n",
            "[CV 5/5] END ....criterion=gini, max_depth=None;, score=0.793 total time=   0.1s\n",
            "[CV 1/5] END ....criterion=entropy, max_depth=1;, score=0.716 total time=   0.0s\n",
            "[CV 2/5] END ....criterion=entropy, max_depth=1;, score=0.714 total time=   0.0s\n",
            "[CV 3/5] END ....criterion=entropy, max_depth=1;, score=0.703 total time=   0.0s\n",
            "[CV 4/5] END ....criterion=entropy, max_depth=1;, score=0.707 total time=   0.0s\n",
            "[CV 5/5] END ....criterion=entropy, max_depth=1;, score=0.714 total time=   0.0s\n",
            "[CV 1/5] END ...criterion=entropy, max_depth=10;, score=0.814 total time=   0.1s\n",
            "[CV 2/5] END ...criterion=entropy, max_depth=10;, score=0.807 total time=   0.1s\n",
            "[CV 3/5] END ...criterion=entropy, max_depth=10;, score=0.817 total time=   0.1s\n",
            "[CV 4/5] END ...criterion=entropy, max_depth=10;, score=0.816 total time=   0.1s\n",
            "[CV 5/5] END ...criterion=entropy, max_depth=10;, score=0.818 total time=   0.1s\n",
            "[CV 1/5] END ...criterion=entropy, max_depth=20;, score=0.787 total time=   0.1s\n",
            "[CV 2/5] END ...criterion=entropy, max_depth=20;, score=0.783 total time=   0.1s\n",
            "[CV 3/5] END ...criterion=entropy, max_depth=20;, score=0.794 total time=   0.1s\n",
            "[CV 4/5] END ...criterion=entropy, max_depth=20;, score=0.804 total time=   0.1s\n",
            "[CV 5/5] END ...criterion=entropy, max_depth=20;, score=0.804 total time=   0.1s\n",
            "[CV 1/5] END ...criterion=entropy, max_depth=30;, score=0.783 total time=   0.1s\n",
            "[CV 2/5] END ...criterion=entropy, max_depth=30;, score=0.787 total time=   0.1s\n",
            "[CV 3/5] END ...criterion=entropy, max_depth=30;, score=0.783 total time=   0.1s\n",
            "[CV 4/5] END ...criterion=entropy, max_depth=30;, score=0.797 total time=   0.1s\n",
            "[CV 5/5] END ...criterion=entropy, max_depth=30;, score=0.787 total time=   0.1s\n",
            "[CV 1/5] END ...criterion=entropy, max_depth=40;, score=0.781 total time=   0.1s\n",
            "[CV 2/5] END ...criterion=entropy, max_depth=40;, score=0.782 total time=   0.1s\n",
            "[CV 3/5] END ...criterion=entropy, max_depth=40;, score=0.787 total time=   0.1s\n",
            "[CV 4/5] END ...criterion=entropy, max_depth=40;, score=0.801 total time=   0.1s\n",
            "[CV 5/5] END ...criterion=entropy, max_depth=40;, score=0.787 total time=   0.1s\n",
            "[CV 1/5] END ...criterion=entropy, max_depth=50;, score=0.786 total time=   0.1s\n",
            "[CV 2/5] END ...criterion=entropy, max_depth=50;, score=0.779 total time=   0.1s\n",
            "[CV 3/5] END ...criterion=entropy, max_depth=50;, score=0.782 total time=   0.1s\n",
            "[CV 4/5] END ...criterion=entropy, max_depth=50;, score=0.800 total time=   0.1s\n",
            "[CV 5/5] END ...criterion=entropy, max_depth=50;, score=0.798 total time=   0.1s\n",
            "[CV 1/5] END ...criterion=entropy, max_depth=60;, score=0.787 total time=   0.1s\n",
            "[CV 2/5] END ...criterion=entropy, max_depth=60;, score=0.782 total time=   0.1s\n",
            "[CV 3/5] END ...criterion=entropy, max_depth=60;, score=0.785 total time=   0.1s\n",
            "[CV 4/5] END ...criterion=entropy, max_depth=60;, score=0.804 total time=   0.1s\n",
            "[CV 5/5] END ...criterion=entropy, max_depth=60;, score=0.782 total time=   0.1s\n",
            "[CV 1/5] END ...criterion=entropy, max_depth=70;, score=0.784 total time=   0.1s\n",
            "[CV 2/5] END ...criterion=entropy, max_depth=70;, score=0.779 total time=   0.1s\n",
            "[CV 3/5] END ...criterion=entropy, max_depth=70;, score=0.783 total time=   0.1s\n",
            "[CV 4/5] END ...criterion=entropy, max_depth=70;, score=0.796 total time=   0.1s\n",
            "[CV 5/5] END ...criterion=entropy, max_depth=70;, score=0.790 total time=   0.1s\n",
            "[CV 1/5] END ...criterion=entropy, max_depth=80;, score=0.782 total time=   0.1s\n",
            "[CV 2/5] END ...criterion=entropy, max_depth=80;, score=0.782 total time=   0.1s\n",
            "[CV 3/5] END ...criterion=entropy, max_depth=80;, score=0.784 total time=   0.1s\n",
            "[CV 4/5] END ...criterion=entropy, max_depth=80;, score=0.801 total time=   0.1s\n",
            "[CV 5/5] END ...criterion=entropy, max_depth=80;, score=0.792 total time=   0.1s\n",
            "[CV 1/5] END ...criterion=entropy, max_depth=90;, score=0.780 total time=   0.1s\n",
            "[CV 2/5] END ...criterion=entropy, max_depth=90;, score=0.781 total time=   0.1s\n",
            "[CV 3/5] END ...criterion=entropy, max_depth=90;, score=0.787 total time=   0.1s\n",
            "[CV 4/5] END ...criterion=entropy, max_depth=90;, score=0.802 total time=   0.1s\n",
            "[CV 5/5] END ...criterion=entropy, max_depth=90;, score=0.787 total time=   0.1s\n",
            "[CV 1/5] END ..criterion=entropy, max_depth=100;, score=0.781 total time=   0.1s\n",
            "[CV 2/5] END ..criterion=entropy, max_depth=100;, score=0.775 total time=   0.1s\n",
            "[CV 3/5] END ..criterion=entropy, max_depth=100;, score=0.781 total time=   0.1s\n",
            "[CV 4/5] END ..criterion=entropy, max_depth=100;, score=0.803 total time=   0.1s\n",
            "[CV 5/5] END ..criterion=entropy, max_depth=100;, score=0.789 total time=   0.1s\n",
            "[CV 1/5] END .criterion=entropy, max_depth=None;, score=0.783 total time=   0.1s\n",
            "[CV 2/5] END .criterion=entropy, max_depth=None;, score=0.782 total time=   0.1s\n",
            "[CV 3/5] END .criterion=entropy, max_depth=None;, score=0.782 total time=   0.1s\n",
            "[CV 4/5] END .criterion=entropy, max_depth=None;, score=0.802 total time=   0.1s\n",
            "[CV 5/5] END .criterion=entropy, max_depth=None;, score=0.793 total time=   0.1s\n"
          ]
        },
        {
          "output_type": "execute_result",
          "data": {
            "text/plain": [
              "GridSearchCV(estimator=DecisionTreeClassifier(),\n",
              "             param_grid={'criterion': ['gini', 'entropy'],\n",
              "                         'max_depth': [1, 10, 20, 30, 40, 50, 60, 70, 80, 90,\n",
              "                                       100, None]},\n",
              "             verbose=3)"
            ]
          },
          "metadata": {},
          "execution_count": 12
        }
      ]
    },
    {
      "cell_type": "code",
      "source": [
        "# print best parameter after tuning\n",
        "print(\"The Best Parameters Are:\")\n",
        "print(grid.best_params_)"
      ],
      "metadata": {
        "colab": {
          "base_uri": "https://localhost:8080/"
        },
        "id": "1T0A7PK2EWs9",
        "outputId": "d089fd34-96f3-4594-b276-95fa3c1c15ce"
      },
      "execution_count": 13,
      "outputs": [
        {
          "output_type": "stream",
          "name": "stdout",
          "text": [
            "The Best Parameters Are:\n",
            "{'criterion': 'gini', 'max_depth': 10}\n"
          ]
        }
      ]
    },
    {
      "cell_type": "markdown",
      "source": [
        " **Testing The Model On The TestSet**"
      ],
      "metadata": {
        "id": "D8GibeK0lq3f"
      }
    },
    {
      "cell_type": "code",
      "source": [
        "predicted_labels = grid.predict(features_test)"
      ],
      "metadata": {
        "id": "H_9DzH46l4O-"
      },
      "execution_count": 14,
      "outputs": []
    },
    {
      "cell_type": "markdown",
      "source": [
        "**Decision Tree Results Performance**"
      ],
      "metadata": {
        "id": "dDqUpw3yKi_l"
      }
    },
    {
      "cell_type": "code",
      "source": [
        "from sklearn.metrics import confusion_matrix, ConfusionMatrixDisplay,accuracy_score,precision_score,recall_score,f1_score,classification_report\n",
        "actual_labels=label_test\n",
        "confusion_matrix = confusion_matrix(actual_labels, predicted_labels)\n",
        "accuracy = accuracy_score(actual_labels, predicted_labels)\n",
        "precision = precision_score(actual_labels, predicted_labels)\n",
        "recall = recall_score(actual_labels, predicted_labels)\n",
        "f1_score = f1_score(actual_labels, predicted_labels)\n",
        "display_matrix = ConfusionMatrixDisplay(confusion_matrix)\n",
        "display_matrix.plot()\n",
        "plt.show()\n",
        "print(\"Accuracy In Decimal: \"+str(accuracy))\n",
        "# Print the Classification Report\n",
        "cr = classification_report(actual_labels, predicted_labels)\n",
        "print(\"\\n\\nClassification Report\\n\")\n",
        "print(cr)\n"
      ],
      "metadata": {
        "colab": {
          "base_uri": "https://localhost:8080/",
          "height": 522
        },
        "id": "JirGMePN7IBf",
        "outputId": "50790f65-bb35-4dda-fb6a-cdf98ea71371"
      },
      "execution_count": 15,
      "outputs": [
        {
          "output_type": "display_data",
          "data": {
            "text/plain": [
              "<Figure size 432x288 with 2 Axes>"
            ],
            "image/png": "[encoded data removed]"
          },
          "metadata": {
            "needs_background": "light"
          }
        },
        {
          "output_type": "stream",
          "name": "stdout",
          "text": [
            "Accuracy In Decimal: 0.8163905060456784\n",
            "\n",
            "\n",
            "Classification Report\n",
            "\n",
            "              precision    recall  f1-score   support\n",
            "\n",
            "           0       0.84      0.80      0.82      1165\n",
            "           1       0.79      0.84      0.81      1068\n",
            "\n",
            "    accuracy                           0.82      2233\n",
            "   macro avg       0.82      0.82      0.82      2233\n",
            "weighted avg       0.82      0.82      0.82      2233\n",
            "\n"
          ]
        }
      ]
    }
  ],
  "metadata": {
    "colab": {
      "collapsed_sections": [],
      "name": "MarketingProjectDecisionTree.ipynb",
      "provenance": []
    },
    "kernelspec": {
      "display_name": "Python 3",
      "name": "python3"
    },
    "language_info": {
      "name": "python"
    }
  },
  "nbformat": 4,
  "nbformat_minor": 0
}